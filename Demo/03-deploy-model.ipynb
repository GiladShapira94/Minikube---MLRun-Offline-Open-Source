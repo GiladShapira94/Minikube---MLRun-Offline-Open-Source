{
 "cells": [
  {
   "cell_type": "code",
   "execution_count": 1,
   "id": "73b6d570-bcae-496f-93d2-0b95199d1c74",
   "metadata": {},
   "outputs": [
    {
     "name": "stdout",
     "output_type": "stream",
     "text": [
      "> 2022-03-13 08:39:20,459 [info] loaded project test-mlrun from MLRun DB\n",
      "Full project name: test-mlrun-jovyan\n"
     ]
    }
   ],
   "source": [
    "from os import path\n",
    "import mlrun\n",
    "\n",
    "# Set the base project name\n",
    "project_name_base = 'test-mlrun'\n",
    "\n",
    "# Initialize the MLRun project object\n",
    "project = mlrun.get_or_create_project(project_name_base, context=\"./\", user_project=True)\n",
    "\n",
    "# Display the current project name\n",
    "project_name = project.metadata.name\n",
    "print(f'Full project name: {project_name}')"
   ]
  },
  {
   "cell_type": "code",
   "execution_count": 2,
   "id": "2ec14d30-e573-4e9b-bbed-73a9960e9828",
   "metadata": {},
   "outputs": [],
   "source": [
    "# mlrun: start-code"
   ]
  },
  {
   "cell_type": "code",
   "execution_count": 3,
   "id": "f4da71ad-1cde-4453-8028-0cb977df9724",
   "metadata": {},
   "outputs": [],
   "source": [
    "from cloudpickle import load\n",
    "import numpy as np\n",
    "from typing import List\n",
    "import mlrun\n",
    "\n",
    "class ClassifierModel(mlrun.serving.V2ModelServer):\n",
    "    def load(self):\n",
    "        \"\"\"load and initialize the model and/or other elements\"\"\"\n",
    "        model_file, extra_data = self.get_model('.pkl')\n",
    "        self.model = load(open(model_file, 'rb'))\n",
    "\n",
    "    def predict(self, body: dict) -> List:\n",
    "        \"\"\"Generate model predictions from sample.\"\"\"\n",
    "        feats = np.asarray(body['inputs'])\n",
    "        result: np.ndarray = self.model.predict(feats)\n",
    "        return result.tolist()"
   ]
  },
  {
   "cell_type": "code",
   "execution_count": 4,
   "id": "3282732e-731d-484e-bf8a-71965583fb14",
   "metadata": {},
   "outputs": [],
   "source": [
    "# mlrun: end-code"
   ]
  },
  {
   "cell_type": "code",
   "execution_count": 5,
   "id": "dbd3062b-6d28-4a5f-a09c-453320b7563d",
   "metadata": {},
   "outputs": [],
   "source": [
    "serving_fn = mlrun.code_to_function('serving', kind='serving',image='mlrun/mlrun')\n",
    "serving_fn.spec.default_class = 'ClassifierModel'"
   ]
  },
  {
   "cell_type": "code",
   "execution_count": 11,
   "id": "f3977959-3d58-4d9c-abdb-5ec0c1fb25c4",
   "metadata": {},
   "outputs": [
    {
     "data": {
      "text/plain": [
       "<mlrun.serving.states.TaskStep at 0x7f450043cb20>"
      ]
     },
     "execution_count": 11,
     "metadata": {},
     "output_type": "execute_result"
    }
   ],
   "source": [
    "model_file = project.get_artifact_uri('train-iris-train_iris_Model') \n",
    "serving_fn.add_model('my_model',model_path=model_file)"
   ]
  },
  {
   "cell_type": "code",
   "execution_count": 12,
   "id": "17266ec1-2dc1-4eab-9891-37155f4cd598",
   "metadata": {},
   "outputs": [],
   "source": [
    "my_data = '''{\"inputs\":[[5.1, 3.5, 1.4, 0.2],[7.7, 3.8, 6.7, 2.2]]}'''"
   ]
  },
  {
   "cell_type": "code",
   "execution_count": 13,
   "id": "c3df3ab1-577c-4f23-9b81-ebe4e22f3502",
   "metadata": {},
   "outputs": [
    {
     "name": "stdout",
     "output_type": "stream",
     "text": [
      "> 2022-03-13 08:50:27,251 [info] model my_model was loaded\n",
      "> 2022-03-13 08:50:27,251 [info] Loaded ['my_model']\n"
     ]
    },
    {
     "name": "stderr",
     "output_type": "stream",
     "text": [
      "X does not have valid feature names, but RandomForestClassifier was fitted with feature names\n"
     ]
    },
    {
     "data": {
      "text/plain": [
       "{'id': 'a6cdc1263054490a8a081e3eafdc349e',\n",
       " 'model_name': 'my_model',\n",
       " 'outputs': [0, 2]}"
      ]
     },
     "execution_count": 13,
     "metadata": {},
     "output_type": "execute_result"
    }
   ],
   "source": [
    "server = serving_fn.to_mock_server()\n",
    "server.test(\"/v2/models/my_model/infer\", body=my_data)"
   ]
  },
  {
   "cell_type": "code",
   "execution_count": 14,
   "id": "847f81ec-a241-4603-906e-90aaec4d3094",
   "metadata": {},
   "outputs": [
    {
     "name": "stdout",
     "output_type": "stream",
     "text": [
      "> 2022-03-13 08:50:29,453 [info] Starting remote function deploy\n",
      "2022-03-13 08:50:29  (info) Deploying function\n",
      "2022-03-13 08:50:29  (info) Building\n",
      "2022-03-13 08:50:29  (info) Staging files and preparing base images\n",
      "2022-03-13 08:50:29  (warn) Python 3.6 runtime is deprecated and will soon not be supported. Please migrate your code and use Python 3.7 runtime (`python:3.7`) or higher\n",
      "2022-03-13 08:50:29  (info) Building processor image\n",
      "2022-03-13 08:51:29  (info) Build complete\n",
      "2022-03-13 08:51:37  (info) Function deploy complete\n",
      "> 2022-03-13 08:51:38,077 [info] successfully deployed function: {'internal_invocation_urls': ['nuclio-test-mlrun-jovyan-serving.mlrun.svc.cluster.local:8080'], 'external_invocation_urls': ['localhost:30240']}\n"
     ]
    }
   ],
   "source": [
    "function_address = serving_fn.deploy()"
   ]
  },
  {
   "cell_type": "code",
   "execution_count": null,
   "id": "2c322ac7-b0ee-4c7f-9e58-0b7c37d69763",
   "metadata": {},
   "outputs": [],
   "source": []
  },
  {
   "cell_type": "code",
   "execution_count": null,
   "id": "94a03e5e-f4a5-4a7b-9a31-73ed3bd96505",
   "metadata": {},
   "outputs": [],
   "source": []
  },
  {
   "cell_type": "code",
   "execution_count": null,
   "id": "b25c86b0-6039-4820-8dc3-f464efec1b90",
   "metadata": {},
   "outputs": [],
   "source": []
  },
  {
   "cell_type": "code",
   "execution_count": null,
   "id": "39385faf-58c0-4e9a-8127-92cd14af1c7a",
   "metadata": {},
   "outputs": [],
   "source": []
  }
 ],
 "metadata": {
  "kernelspec": {
   "display_name": "Python 3",
   "language": "python",
   "name": "python3"
  },
  "language_info": {
   "codemirror_mode": {
    "name": "ipython",
    "version": 3
   },
   "file_extension": ".py",
   "mimetype": "text/x-python",
   "name": "python",
   "nbconvert_exporter": "python",
   "pygments_lexer": "ipython3",
   "version": "3.8.8"
  }
 },
 "nbformat": 4,
 "nbformat_minor": 5
}
